{
 "cells": [
  {
   "cell_type": "code",
   "execution_count": 1,
   "id": "40e6a41c",
   "metadata": {},
   "outputs": [],
   "source": [
    "# If statement \n",
    "# syntax of if condition :\n",
    "# if (condition) :\n",
    "#      { --------\n",
    "#       --------} -> suit or block of code \n",
    "# code executes only if the given condition is true or els it wont execute \n",
    "# This code always follow indentation (4 spaces or 1 tab)\n"
   ]
  },
  {
   "cell_type": "code",
   "execution_count": 2,
   "id": "1fdbee1e",
   "metadata": {},
   "outputs": [
    {
     "name": "stdout",
     "output_type": "stream",
     "text": [
      "This always runs regardless of age\n"
     ]
    }
   ],
   "source": [
    "# Example\n",
    "age  = int(input(\"Enter your age = \"))\n",
    "if age >= 18 :\n",
    "    print(\"Eligible for vote\")\n",
    "print(\"This always runs regardless of age\")"
   ]
  },
  {
   "cell_type": "code",
   "execution_count": 3,
   "id": "8cd516c2",
   "metadata": {},
   "outputs": [
    {
     "name": "stdout",
     "output_type": "stream",
     "text": [
      "program stoped\n"
     ]
    }
   ],
   "source": [
    "a = 6\n",
    "if a == 2 :\n",
    "    print(\"the value of a is 2 \")\n",
    "b = 4\n",
    "print(\"program stoped\")"
   ]
  },
  {
   "cell_type": "code",
   "execution_count": 5,
   "id": "33b6242e",
   "metadata": {},
   "outputs": [
    {
     "data": {
      "text/plain": [
       "True"
      ]
     },
     "execution_count": 5,
     "metadata": {},
     "output_type": "execute_result"
    }
   ],
   "source": [
    "5!=5\n",
    "5 == 5"
   ]
  },
  {
   "cell_type": "markdown",
   "id": "60c57d51",
   "metadata": {},
   "source": [
    "# if-else Statements \n",
    "# if-else provides an alternative path when the condition is false \n",
    "if condition:\n",
    "    # code when condition is true \n",
    "else:\n",
    "    # code when the condition is false"
   ]
  },
  {
   "cell_type": "code",
   "execution_count": null,
   "id": "df69555a",
   "metadata": {},
   "outputs": [
    {
     "name": "stdout",
     "output_type": "stream",
     "text": [
      "You have passed the exam!\n"
     ]
    }
   ],
   "source": [
    "# create a if -eles conditional statement to varify whether the user is pass or fail he will pass of he get atleast 35 to pass\n",
    "user_input  = int(input(\"Enter your score:\"))\n",
    "if user_input > 35:\n",
    "    print(\"Congrats,You have passed the exam!\")\n",
    "else:\n",
    "    print(\"Sorry, you did'nt pass the exam..\")"
   ]
  },
  {
   "cell_type": "code",
   "execution_count": null,
   "id": "71e08338",
   "metadata": {},
   "outputs": [
    {
     "name": "stdout",
     "output_type": "stream",
     "text": [
      "The number is even\n"
     ]
    }
   ],
   "source": [
    "# write a program to check weather the number is even or odd\n",
    "input_number = int(input(\"Enter you number :\"))\n",
    "if input_number % 2 == 0 :\n",
    "    print(\"The number is even\")\n",
    "else:\n",
    "    print(\"The number is odd\")\n"
   ]
  },
  {
   "cell_type": "markdown",
   "id": "83ffcd3a",
   "metadata": {},
   "source": [
    "# if we want to check multiple conditions then we use elif condition\n",
    "if condition:\n",
    "    # code for condition1\n",
    "elif condition:\n",
    "    #code for condition2\n",
    "elif condition:\n",
    "    #code for condition3\n",
    "else condition:\n",
    "    # code when all conditions are false \n",
    "\n"
   ]
  },
  {
   "cell_type": "code",
   "execution_count": 8,
   "id": "f04b6300",
   "metadata": {},
   "outputs": [
    {
     "name": "stdout",
     "output_type": "stream",
     "text": [
      "Failed\n",
      "Your grade is F\n"
     ]
    }
   ],
   "source": [
    "input_score = int(input(\"Enter your score:\"))\n",
    "if input_score >= 90:\n",
    "    grade = \"A\"\n",
    "    print(\"Excellent\")\n",
    "elif input_score >= 80:\n",
    "    grade = \"B\"\n",
    "    print(\"Good Job !\")\n",
    "elif input_score >= 70:\n",
    "    grade = \"c\"\n",
    "    print(\"Average\")\n",
    "elif input_score >= 60:\n",
    "    grade = \"D\"\n",
    "    print(\"Below Average\")\n",
    "else:\n",
    "    grade = \"F\"\n",
    "    print(\"Failed\")\n",
    "print(f\"Your grade is {grade}\")"
   ]
  },
  {
   "cell_type": "code",
   "execution_count": 13,
   "id": "ef6c63b3",
   "metadata": {},
   "outputs": [
    {
     "name": "stdout",
     "output_type": "stream",
     "text": [
      "You can drive\n"
     ]
    }
   ],
   "source": [
    "# Logical conditions \n",
    "# True and True -> True\n",
    "# True and False -> False \n",
    "# False and True -> False\n",
    "# False and False -> False\n",
    "\n",
    "age = 24 \n",
    "has_licencse = True\n",
    "if age >= 18 and has_licencse:\n",
    "    print(\"You can drive\")\n",
    "else:\n",
    "    print(\"You cannot drive\")\n",
    "    "
   ]
  }
 ],
 "metadata": {
  "kernelspec": {
   "display_name": "base",
   "language": "python",
   "name": "python3"
  },
  "language_info": {
   "codemirror_mode": {
    "name": "ipython",
    "version": 3
   },
   "file_extension": ".py",
   "mimetype": "text/x-python",
   "name": "python",
   "nbconvert_exporter": "python",
   "pygments_lexer": "ipython3",
   "version": "3.13.5"
  }
 },
 "nbformat": 4,
 "nbformat_minor": 5
}
