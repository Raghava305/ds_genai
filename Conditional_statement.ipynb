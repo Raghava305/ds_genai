{
 "cells": [
  {
   "cell_type": "code",
   "execution_count": null,
   "id": "40e6a41c",
   "metadata": {},
   "outputs": [],
   "source": [
    "# If statement \n",
    "# syntax of if condition :\n",
    "# if (condition) :\n",
    "#      { --------\n",
    "#       --------} -> suit or block of code \n",
    "# code executes only if the given condition is true or els it wont execute \n",
    "# This code always follow indentation (4 spaces or 1 tab)\n"
   ]
  },
  {
   "cell_type": "code",
   "execution_count": 4,
   "id": "1fdbee1e",
   "metadata": {},
   "outputs": [
    {
     "name": "stdout",
     "output_type": "stream",
     "text": [
      "Eligible for vote\n",
      "This always runs regardless of age\n"
     ]
    }
   ],
   "source": [
    "# Example\n",
    "age  = int(input(\"Enter your age = \"))\n",
    "if age >= 18 :\n",
    "    print(\"Eligible for vote\")\n",
    "print(\"This always runs regardless of age\")"
   ]
  },
  {
   "cell_type": "code",
   "execution_count": null,
   "id": "8cd516c2",
   "metadata": {},
   "outputs": [
    {
     "name": "stdout",
     "output_type": "stream",
     "text": [
      "program stoped\n",
      "4\n"
     ]
    }
   ],
   "source": [
    "a = 6\n",
    "if a == 2 :\n",
    "    print(\"the value of a is 2 \")\n",
    "b = 4\n",
    "print(\"program stoped\")"
   ]
  },
  {
   "cell_type": "code",
   "execution_count": null,
   "id": "33b6242e",
   "metadata": {},
   "outputs": [],
   "source": []
  },
  {
   "cell_type": "code",
   "execution_count": null,
   "id": "60c57d51",
   "metadata": {},
   "outputs": [],
   "source": []
  },
  {
   "cell_type": "code",
   "execution_count": null,
   "id": "df69555a",
   "metadata": {},
   "outputs": [],
   "source": []
  },
  {
   "cell_type": "code",
   "execution_count": null,
   "id": "71e08338",
   "metadata": {},
   "outputs": [],
   "source": []
  },
  {
   "cell_type": "code",
   "execution_count": null,
   "id": "83ffcd3a",
   "metadata": {},
   "outputs": [],
   "source": []
  },
  {
   "cell_type": "code",
   "execution_count": null,
   "id": "f04b6300",
   "metadata": {},
   "outputs": [],
   "source": []
  },
  {
   "cell_type": "code",
   "execution_count": null,
   "id": "ef6c63b3",
   "metadata": {},
   "outputs": [],
   "source": []
  }
 ],
 "metadata": {
  "kernelspec": {
   "display_name": "base",
   "language": "python",
   "name": "python3"
  },
  "language_info": {
   "codemirror_mode": {
    "name": "ipython",
    "version": 3
   },
   "file_extension": ".py",
   "mimetype": "text/x-python",
   "name": "python",
   "nbconvert_exporter": "python",
   "pygments_lexer": "ipython3",
   "version": "3.13.5"
  }
 },
 "nbformat": 4,
 "nbformat_minor": 5
}
