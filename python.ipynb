{
 "cells": [
  {
   "cell_type": "code",
   "execution_count": null,
   "id": "f4902723",
   "metadata": {},
   "outputs": [
    {
     "name": "stdout",
     "output_type": "stream",
     "text": [
      "hello\n"
     ]
    }
   ],
   "source": [
    "print(\"hello\") # syntax to print the string or any line or output"
   ]
  },
  {
   "cell_type": "markdown",
   "id": "9872826b",
   "metadata": {},
   "source": [
    "#String Manuplations"
   ]
  },
  {
   "cell_type": "code",
   "execution_count": 5,
   "id": "565ea751",
   "metadata": {},
   "outputs": [],
   "source": [
    "name = input (\"what is your name?\")"
   ]
  },
  {
   "cell_type": "code",
   "execution_count": 6,
   "id": "645ce70d",
   "metadata": {},
   "outputs": [
    {
     "data": {
      "text/plain": [
       "'Anil'"
      ]
     },
     "execution_count": 6,
     "metadata": {},
     "output_type": "execute_result"
    }
   ],
   "source": [
    "name "
   ]
  },
  {
   "cell_type": "code",
   "execution_count": 1,
   "id": "d075a087",
   "metadata": {},
   "outputs": [],
   "source": [
    "age = input(\"what is your age?\")"
   ]
  },
  {
   "cell_type": "code",
   "execution_count": 2,
   "id": "622f726b",
   "metadata": {},
   "outputs": [
    {
     "data": {
      "text/plain": [
       "'31'"
      ]
     },
     "execution_count": 2,
     "metadata": {},
     "output_type": "execute_result"
    }
   ],
   "source": [
    "age"
   ]
  },
  {
   "cell_type": "code",
   "execution_count": 7,
   "id": "c1e972aa",
   "metadata": {},
   "outputs": [
    {
     "data": {
      "text/plain": [
       "'My name is Anil and my age is 31'"
      ]
     },
     "execution_count": 7,
     "metadata": {},
     "output_type": "execute_result"
    }
   ],
   "source": [
    "\n",
    "f\"My name is {name} and my age is {age}\" # \"f\"- formatted string literal it is used for string manuplation in python\n"
   ]
  },
  {
   "cell_type": "code",
   "execution_count": 11,
   "id": "7fd56b09",
   "metadata": {},
   "outputs": [],
   "source": [
    "a= \"My name is ANIL\""
   ]
  },
  {
   "cell_type": "code",
   "execution_count": null,
   "id": "bfe439cd",
   "metadata": {},
   "outputs": [
    {
     "data": {
      "text/plain": [
       "'my name is anil'"
      ]
     },
     "execution_count": 12,
     "metadata": {},
     "output_type": "execute_result"
    }
   ],
   "source": [
    "a.lower() # prints every word of the sentence in lower case"
   ]
  },
  {
   "cell_type": "code",
   "execution_count": 13,
   "id": "17fd3bf5",
   "metadata": {},
   "outputs": [],
   "source": [
    "b = \"this is python class\""
   ]
  },
  {
   "cell_type": "code",
   "execution_count": null,
   "id": "6d222e90",
   "metadata": {},
   "outputs": [
    {
     "data": {
      "text/plain": [
       "'THIS IS PYTHON CLASS'"
      ]
     },
     "execution_count": 14,
     "metadata": {},
     "output_type": "execute_result"
    }
   ],
   "source": [
    "b.upper() #  prints every word of the sentence in  upper case "
   ]
  },
  {
   "cell_type": "code",
   "execution_count": 15,
   "id": "ac2b574a",
   "metadata": {},
   "outputs": [],
   "source": [
    "c = \"this is my first program\""
   ]
  },
  {
   "cell_type": "code",
   "execution_count": null,
   "id": "0b9b433b",
   "metadata": {},
   "outputs": [
    {
     "data": {
      "text/plain": [
       "'This Is My First Program'"
      ]
     },
     "execution_count": 16,
     "metadata": {},
     "output_type": "execute_result"
    }
   ],
   "source": [
    "c.title() # captilise the starting letter of every word of the sentence"
   ]
  },
  {
   "cell_type": "code",
   "execution_count": 17,
   "id": "e23dc8e3",
   "metadata": {},
   "outputs": [],
   "source": [
    "d = \"this is example for capatilize the given string\""
   ]
  },
  {
   "cell_type": "code",
   "execution_count": null,
   "id": "87d864ee",
   "metadata": {},
   "outputs": [
    {
     "data": {
      "text/plain": [
       "'This is example for capatilize the given string'"
      ]
     },
     "execution_count": 18,
     "metadata": {},
     "output_type": "execute_result"
    }
   ],
   "source": [
    "d.capitalize() # capatilise the starting letter of the given sentence"
   ]
  },
  {
   "cell_type": "code",
   "execution_count": 8,
   "id": "3f6b36c0",
   "metadata": {},
   "outputs": [],
   "source": [
    "test = \"Python is great language for learning machine learning and AI development\""
   ]
  },
  {
   "cell_type": "code",
   "execution_count": null,
   "id": "d1165406",
   "metadata": {},
   "outputs": [
    {
     "data": {
      "text/plain": [
       "True"
      ]
     },
     "execution_count": 12,
     "metadata": {},
     "output_type": "execute_result"
    }
   ],
   "source": [
    "'python'.capitalize() in test # used to check whether the word is present in the given text it returns boolen value "
   ]
  },
  {
   "cell_type": "code",
   "execution_count": null,
   "id": "d390dce3",
   "metadata": {},
   "outputs": [
    {
     "data": {
      "text/plain": [
       "38"
      ]
     },
     "execution_count": 17,
     "metadata": {},
     "output_type": "execute_result"
    }
   ],
   "source": [
    "test.find(\"machine\") #used to find the given word index "
   ]
  },
  {
   "cell_type": "code",
   "execution_count": null,
   "id": "e495fbcc",
   "metadata": {},
   "outputs": [
    {
     "data": {
      "text/plain": [
       "'m'"
      ]
     },
     "execution_count": 24,
     "metadata": {},
     "output_type": "execute_result"
    }
   ],
   "source": [
    "test[38] # indexing {index always starts with zero}"
   ]
  },
  {
   "cell_type": "code",
   "execution_count": null,
   "id": "fa8e1753",
   "metadata": {},
   "outputs": [
    {
     "data": {
      "text/plain": [
       "-1"
      ]
     },
     "execution_count": 16,
     "metadata": {},
     "output_type": "execute_result"
    }
   ],
   "source": [
    "test.find('text') # if the word is not present it will give -1 as the output which indicates the word is not present"
   ]
  },
  {
   "cell_type": "code",
   "execution_count": null,
   "id": "f69828f2",
   "metadata": {},
   "outputs": [
    {
     "data": {
      "text/plain": [
       "73"
      ]
     },
     "execution_count": 18,
     "metadata": {},
     "output_type": "execute_result"
    }
   ],
   "source": [
    "len(test) # it returns the length of the sentence"
   ]
  },
  {
   "cell_type": "code",
   "execution_count": 20,
   "id": "f7c7dcda",
   "metadata": {},
   "outputs": [],
   "source": [
    "a = \"This is a gen Ai class\""
   ]
  },
  {
   "cell_type": "code",
   "execution_count": 21,
   "id": "55c81104",
   "metadata": {},
   "outputs": [
    {
     "data": {
      "text/plain": [
       "True"
      ]
     },
     "execution_count": 21,
     "metadata": {},
     "output_type": "execute_result"
    }
   ],
   "source": [
    "a.startswith(\"This\") # returns boolen value TRUE OR FALSE whether the sentence starts with the given query "
   ]
  },
  {
   "cell_type": "code",
   "execution_count": 22,
   "id": "d1c2aabe",
   "metadata": {},
   "outputs": [
    {
     "data": {
      "text/plain": [
       "True"
      ]
     },
     "execution_count": 22,
     "metadata": {},
     "output_type": "execute_result"
    }
   ],
   "source": [
    "a.endswith(\"class\")"
   ]
  },
  {
   "cell_type": "code",
   "execution_count": 23,
   "id": "01339239",
   "metadata": {},
   "outputs": [
    {
     "data": {
      "text/plain": [
       "False"
      ]
     },
     "execution_count": 23,
     "metadata": {},
     "output_type": "execute_result"
    }
   ],
   "source": [
    "a.endswith(\"machine\")"
   ]
  },
  {
   "cell_type": "markdown",
   "id": "1e448b56",
   "metadata": {},
   "source": [
    "### String manuplation using Split functions"
   ]
  },
  {
   "cell_type": "code",
   "execution_count": 25,
   "id": "9a110749",
   "metadata": {},
   "outputs": [],
   "source": [
    "sentence = \"Python is amazing for Ai.AI is the future\""
   ]
  },
  {
   "cell_type": "code",
   "execution_count": null,
   "id": "ee08951f",
   "metadata": {},
   "outputs": [
    {
     "data": {
      "text/plain": [
       "['Python is amazing for Ai', 'AI is the future']"
      ]
     },
     "execution_count": 27,
     "metadata": {},
     "output_type": "execute_result"
    }
   ],
   "source": [
    "sentence.split(\".\") # splits the sentence by using the condition "
   ]
  },
  {
   "cell_type": "code",
   "execution_count": 29,
   "id": "a604d0ef",
   "metadata": {},
   "outputs": [
    {
     "data": {
      "text/plain": [
       "['Python', 'is', 'amazing', 'for', 'Ai.AI', 'is', 'the', 'future']"
      ]
     },
     "execution_count": 29,
     "metadata": {},
     "output_type": "execute_result"
    }
   ],
   "source": [
    "sentence.split(\" \")"
   ]
  },
  {
   "cell_type": "code",
   "execution_count": 30,
   "id": "cae6e9bc",
   "metadata": {},
   "outputs": [],
   "source": [
    "text = (\"AI\",\"is\",\"future\",\"technolody\")"
   ]
  },
  {
   "cell_type": "code",
   "execution_count": null,
   "id": "93a93633",
   "metadata": {},
   "outputs": [
    {
     "name": "stdout",
     "output_type": "stream",
     "text": [
      "AI is future technolody\n"
     ]
    }
   ],
   "source": [
    "d = \" \".join(text) # used to join the text seperated by comma \n",
    "print(d)"
   ]
  },
  {
   "cell_type": "code",
   "execution_count": null,
   "id": "17670c67",
   "metadata": {},
   "outputs": [
    {
     "name": "stdout",
     "output_type": "stream",
     "text": [
      "AI+is+future+technolody\n"
     ]
    }
   ],
   "source": [
    "h = \"+\".join(text) # joins wiht the + as cond and join the word in the sentence \n",
    "print(h)"
   ]
  },
  {
   "cell_type": "code",
   "execution_count": null,
   "id": "6df63c23",
   "metadata": {},
   "outputs": [
    {
     "name": "stdout",
     "output_type": "stream",
     "text": [
      "AI\n",
      "\tis\n",
      "\tfuture\n",
      "\ttechnolody\n"
     ]
    }
   ],
   "source": [
    "j = \"\\n\\t\".join(text) #t= tab creates a space ; n = prints the word in the next line \n",
    "print(j)"
   ]
  },
  {
   "cell_type": "code",
   "execution_count": null,
   "id": "5de3b9eb",
   "metadata": {},
   "outputs": [
    {
     "data": {
      "text/plain": [
       "'Hello Anil,welcome to course'"
      ]
     },
     "execution_count": 37,
     "metadata": {},
     "output_type": "execute_result"
    }
   ],
   "source": [
    "template = \"Hello name,welcome to course\"\n",
    "template.replace(\"name\",\"Anil\") # Replace the old word to new word "
   ]
  },
  {
   "cell_type": "code",
   "execution_count": 38,
   "id": "20cb57e0",
   "metadata": {},
   "outputs": [
    {
     "data": {
      "text/plain": [
       "'Hello name,welcome to Ai chatbot'"
      ]
     },
     "execution_count": 38,
     "metadata": {},
     "output_type": "execute_result"
    }
   ],
   "source": [
    "template.replace(\"course\",\"Ai chatbot\")"
   ]
  },
  {
   "cell_type": "markdown",
   "id": "7effc6bd",
   "metadata": {},
   "source": [
    "## list:\n",
    "1) list is represted by square brackets []\n",
    "2) list is Muttable\n",
    "3) list is ordered it follows indexing \n",
    "4) Lists can grow or shrink as needed. You don’t need to declare their size in advance.\n",
    "### we can use some common list methods :\n",
    "1- append(x) -> Adds items (x) to the end of the list\n",
    "2- extend(iter)-> Adds all the items from an iterable\n",
    "3- insert(i,x) -> insert item x at index i \n",
    "4- remove(x) -> Remove first occurrence of item\n",
    "5- pop(i) -> Removes and returns the items at index i\n",
    "6- sort() -> Sorts the list is ascending order\n",
    "7- reverse() -> Reverse the list in place\n",
    "8- clear() -> Removes all items from the list"
   ]
  },
  {
   "cell_type": "code",
   "execution_count": null,
   "id": "e4e2b408",
   "metadata": {},
   "outputs": [],
   "source": []
  }
 ],
 "metadata": {
  "kernelspec": {
   "display_name": "base",
   "language": "python",
   "name": "python3"
  },
  "language_info": {
   "codemirror_mode": {
    "name": "ipython",
    "version": 3
   },
   "file_extension": ".py",
   "mimetype": "text/x-python",
   "name": "python",
   "nbconvert_exporter": "python",
   "pygments_lexer": "ipython3",
   "version": "3.13.5"
  }
 },
 "nbformat": 4,
 "nbformat_minor": 5
}
