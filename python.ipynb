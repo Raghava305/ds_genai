{
 "cells": [
  {
   "cell_type": "code",
   "execution_count": null,
   "id": "f4902723",
   "metadata": {},
   "outputs": [
    {
     "name": "stdout",
     "output_type": "stream",
     "text": [
      "hello\n"
     ]
    }
   ],
   "source": [
    "print(\"hello\") # syntax to print the string or any line or output"
   ]
  },
  {
   "cell_type": "markdown",
   "id": "9872826b",
   "metadata": {},
   "source": [
    "##String Manuplations##"
   ]
  },
  {
   "cell_type": "code",
   "execution_count": 1,
   "id": "565ea751",
   "metadata": {},
   "outputs": [],
   "source": [
    "name = input (\"what is your name?\")"
   ]
  },
  {
   "cell_type": "code",
   "execution_count": 2,
   "id": "645ce70d",
   "metadata": {},
   "outputs": [
    {
     "data": {
      "text/plain": [
       "'Anil'"
      ]
     },
     "execution_count": 2,
     "metadata": {},
     "output_type": "execute_result"
    }
   ],
   "source": [
    "name "
   ]
  },
  {
   "cell_type": "code",
   "execution_count": null,
   "id": "c1e972aa",
   "metadata": {},
   "outputs": [
    {
     "data": {
      "text/plain": [
       "'My name is Anil and my age is 25'"
      ]
     },
     "execution_count": 9,
     "metadata": {},
     "output_type": "execute_result"
    }
   ],
   "source": [
    "age  = 25\n",
    "f\"My name is {name} and my age is {age}\" # \"f\"- formatted string literal it is used for string manuplation in python\n"
   ]
  },
  {
   "cell_type": "code",
   "execution_count": 11,
   "id": "7fd56b09",
   "metadata": {},
   "outputs": [],
   "source": [
    "a= \"My name is ANIL\""
   ]
  },
  {
   "cell_type": "code",
   "execution_count": null,
   "id": "bfe439cd",
   "metadata": {},
   "outputs": [
    {
     "data": {
      "text/plain": [
       "'my name is anil'"
      ]
     },
     "execution_count": 12,
     "metadata": {},
     "output_type": "execute_result"
    }
   ],
   "source": [
    "a.lower() # prints every word of the sentence in lower case"
   ]
  },
  {
   "cell_type": "code",
   "execution_count": 13,
   "id": "17fd3bf5",
   "metadata": {},
   "outputs": [],
   "source": [
    "b = \"this is python class\""
   ]
  },
  {
   "cell_type": "code",
   "execution_count": null,
   "id": "6d222e90",
   "metadata": {},
   "outputs": [
    {
     "data": {
      "text/plain": [
       "'THIS IS PYTHON CLASS'"
      ]
     },
     "execution_count": 14,
     "metadata": {},
     "output_type": "execute_result"
    }
   ],
   "source": [
    "b.upper() #  prints every word of the sentence in  upper case "
   ]
  },
  {
   "cell_type": "code",
   "execution_count": 15,
   "id": "ac2b574a",
   "metadata": {},
   "outputs": [],
   "source": [
    "c = \"this is my first program\""
   ]
  },
  {
   "cell_type": "code",
   "execution_count": null,
   "id": "0b9b433b",
   "metadata": {},
   "outputs": [
    {
     "data": {
      "text/plain": [
       "'This Is My First Program'"
      ]
     },
     "execution_count": 16,
     "metadata": {},
     "output_type": "execute_result"
    }
   ],
   "source": [
    "c.title() # captilise the starting letter of every word of the sentence"
   ]
  },
  {
   "cell_type": "code",
   "execution_count": 17,
   "id": "e23dc8e3",
   "metadata": {},
   "outputs": [],
   "source": [
    "d = \"this is example for capatilize the given string\""
   ]
  },
  {
   "cell_type": "code",
   "execution_count": null,
   "id": "87d864ee",
   "metadata": {},
   "outputs": [
    {
     "data": {
      "text/plain": [
       "'This is example for capatilize the given string'"
      ]
     },
     "execution_count": 18,
     "metadata": {},
     "output_type": "execute_result"
    }
   ],
   "source": [
    "d.capitalize() # capatilise the starting letter of the given sentence"
   ]
  },
  {
   "cell_type": "code",
   "execution_count": null,
   "id": "3f6b36c0",
   "metadata": {},
   "outputs": [],
   "source": []
  },
  {
   "cell_type": "code",
   "execution_count": 7,
   "id": "f7c7dcda",
   "metadata": {},
   "outputs": [],
   "source": [
    "a = \"This is a gen Ai class\""
   ]
  },
  {
   "cell_type": "code",
   "execution_count": 8,
   "id": "55c81104",
   "metadata": {},
   "outputs": [
    {
     "data": {
      "text/plain": [
       "True"
      ]
     },
     "execution_count": 8,
     "metadata": {},
     "output_type": "execute_result"
    }
   ],
   "source": [
    "a.startswith(\"This\")"
   ]
  },
  {
   "cell_type": "markdown",
   "id": "1e448b56",
   "metadata": {},
   "source": []
  }
 ],
 "metadata": {
  "kernelspec": {
   "display_name": "base",
   "language": "python",
   "name": "python3"
  },
  "language_info": {
   "codemirror_mode": {
    "name": "ipython",
    "version": 3
   },
   "file_extension": ".py",
   "mimetype": "text/x-python",
   "name": "python",
   "nbconvert_exporter": "python",
   "pygments_lexer": "ipython3",
   "version": "3.13.5"
  }
 },
 "nbformat": 4,
 "nbformat_minor": 5
}
