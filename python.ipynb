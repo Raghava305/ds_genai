{
 "cells": [
  {
   "cell_type": "code",
   "execution_count": 39,
   "id": "f4902723",
   "metadata": {},
   "outputs": [
    {
     "name": "stdout",
     "output_type": "stream",
     "text": [
      "hello\n"
     ]
    }
   ],
   "source": [
    "print(\"hello\") # syntax to print the string or any line or output"
   ]
  },
  {
   "cell_type": "markdown",
   "id": "9872826b",
   "metadata": {},
   "source": [
    "#String Manuplations"
   ]
  },
  {
   "cell_type": "code",
   "execution_count": 40,
   "id": "565ea751",
   "metadata": {},
   "outputs": [],
   "source": [
    "name = input (\"what is your name?\")"
   ]
  },
  {
   "cell_type": "code",
   "execution_count": 41,
   "id": "645ce70d",
   "metadata": {},
   "outputs": [
    {
     "data": {
      "text/plain": [
       "'anil'"
      ]
     },
     "execution_count": 41,
     "metadata": {},
     "output_type": "execute_result"
    }
   ],
   "source": [
    "name "
   ]
  },
  {
   "cell_type": "code",
   "execution_count": 42,
   "id": "d075a087",
   "metadata": {},
   "outputs": [],
   "source": [
    "age = input(\"what is your age?\")"
   ]
  },
  {
   "cell_type": "code",
   "execution_count": 43,
   "id": "622f726b",
   "metadata": {},
   "outputs": [
    {
     "data": {
      "text/plain": [
       "'23'"
      ]
     },
     "execution_count": 43,
     "metadata": {},
     "output_type": "execute_result"
    }
   ],
   "source": [
    "age"
   ]
  },
  {
   "cell_type": "code",
   "execution_count": 44,
   "id": "c1e972aa",
   "metadata": {},
   "outputs": [
    {
     "data": {
      "text/plain": [
       "'My name is anil and my age is 23'"
      ]
     },
     "execution_count": 44,
     "metadata": {},
     "output_type": "execute_result"
    }
   ],
   "source": [
    "\n",
    "f\"My name is {name} and my age is {age}\" # \"f\"- formatted string literal it is used for string manuplation in python\n"
   ]
  },
  {
   "cell_type": "code",
   "execution_count": 45,
   "id": "7fd56b09",
   "metadata": {},
   "outputs": [],
   "source": [
    "a= \"My name is ANIL\""
   ]
  },
  {
   "cell_type": "code",
   "execution_count": 46,
   "id": "bfe439cd",
   "metadata": {},
   "outputs": [
    {
     "data": {
      "text/plain": [
       "'my name is anil'"
      ]
     },
     "execution_count": 46,
     "metadata": {},
     "output_type": "execute_result"
    }
   ],
   "source": [
    "a.lower() # prints every word of the sentence in lower case"
   ]
  },
  {
   "cell_type": "code",
   "execution_count": 47,
   "id": "17fd3bf5",
   "metadata": {},
   "outputs": [],
   "source": [
    "b = \"this is python class\""
   ]
  },
  {
   "cell_type": "code",
   "execution_count": 48,
   "id": "6d222e90",
   "metadata": {},
   "outputs": [
    {
     "data": {
      "text/plain": [
       "'THIS IS PYTHON CLASS'"
      ]
     },
     "execution_count": 48,
     "metadata": {},
     "output_type": "execute_result"
    }
   ],
   "source": [
    "b.upper() #  prints every word of the sentence in  upper case "
   ]
  },
  {
   "cell_type": "code",
   "execution_count": 49,
   "id": "ac2b574a",
   "metadata": {},
   "outputs": [],
   "source": [
    "c = \"this is my first program\""
   ]
  },
  {
   "cell_type": "code",
   "execution_count": 50,
   "id": "0b9b433b",
   "metadata": {},
   "outputs": [
    {
     "data": {
      "text/plain": [
       "'This Is My First Program'"
      ]
     },
     "execution_count": 50,
     "metadata": {},
     "output_type": "execute_result"
    }
   ],
   "source": [
    "c.title() # captilise the starting letter of every word of the sentence"
   ]
  },
  {
   "cell_type": "code",
   "execution_count": 51,
   "id": "e23dc8e3",
   "metadata": {},
   "outputs": [],
   "source": [
    "d = \"this is example for capatilize the given string\""
   ]
  },
  {
   "cell_type": "code",
   "execution_count": 52,
   "id": "87d864ee",
   "metadata": {},
   "outputs": [
    {
     "data": {
      "text/plain": [
       "'This is example for capatilize the given string'"
      ]
     },
     "execution_count": 52,
     "metadata": {},
     "output_type": "execute_result"
    }
   ],
   "source": [
    "d.capitalize() # capatilise the starting letter of the given sentence"
   ]
  },
  {
   "cell_type": "code",
   "execution_count": 53,
   "id": "3f6b36c0",
   "metadata": {},
   "outputs": [],
   "source": [
    "test = \"Python is great language for learning machine learning and AI development\""
   ]
  },
  {
   "cell_type": "code",
   "execution_count": 54,
   "id": "d1165406",
   "metadata": {},
   "outputs": [
    {
     "data": {
      "text/plain": [
       "True"
      ]
     },
     "execution_count": 54,
     "metadata": {},
     "output_type": "execute_result"
    }
   ],
   "source": [
    "'python'.capitalize() in test # used to check whether the word is present in the given text it returns boolen value "
   ]
  },
  {
   "cell_type": "code",
   "execution_count": 55,
   "id": "d390dce3",
   "metadata": {},
   "outputs": [
    {
     "data": {
      "text/plain": [
       "38"
      ]
     },
     "execution_count": 55,
     "metadata": {},
     "output_type": "execute_result"
    }
   ],
   "source": [
    "test.find(\"machine\") #used to find the given word index "
   ]
  },
  {
   "cell_type": "code",
   "execution_count": 56,
   "id": "e495fbcc",
   "metadata": {},
   "outputs": [
    {
     "data": {
      "text/plain": [
       "'m'"
      ]
     },
     "execution_count": 56,
     "metadata": {},
     "output_type": "execute_result"
    }
   ],
   "source": [
    "test[38] # indexing {index always starts with zero}"
   ]
  },
  {
   "cell_type": "code",
   "execution_count": 57,
   "id": "fa8e1753",
   "metadata": {},
   "outputs": [
    {
     "data": {
      "text/plain": [
       "-1"
      ]
     },
     "execution_count": 57,
     "metadata": {},
     "output_type": "execute_result"
    }
   ],
   "source": [
    "test.find('text') # if the word is not present it will give -1 as the output which indicates the word is not present"
   ]
  },
  {
   "cell_type": "code",
   "execution_count": 58,
   "id": "f69828f2",
   "metadata": {},
   "outputs": [
    {
     "data": {
      "text/plain": [
       "73"
      ]
     },
     "execution_count": 58,
     "metadata": {},
     "output_type": "execute_result"
    }
   ],
   "source": [
    "len(test) # it returns the length of the sentence"
   ]
  },
  {
   "cell_type": "code",
   "execution_count": 59,
   "id": "f7c7dcda",
   "metadata": {},
   "outputs": [],
   "source": [
    "a = \"This is a gen Ai class\""
   ]
  },
  {
   "cell_type": "code",
   "execution_count": 60,
   "id": "55c81104",
   "metadata": {},
   "outputs": [
    {
     "data": {
      "text/plain": [
       "True"
      ]
     },
     "execution_count": 60,
     "metadata": {},
     "output_type": "execute_result"
    }
   ],
   "source": [
    "a.startswith(\"This\") # returns boolen value TRUE OR FALSE whether the sentence starts with the given query "
   ]
  },
  {
   "cell_type": "code",
   "execution_count": 61,
   "id": "d1c2aabe",
   "metadata": {},
   "outputs": [
    {
     "data": {
      "text/plain": [
       "True"
      ]
     },
     "execution_count": 61,
     "metadata": {},
     "output_type": "execute_result"
    }
   ],
   "source": [
    "a.endswith(\"class\")"
   ]
  },
  {
   "cell_type": "code",
   "execution_count": 62,
   "id": "01339239",
   "metadata": {},
   "outputs": [
    {
     "data": {
      "text/plain": [
       "False"
      ]
     },
     "execution_count": 62,
     "metadata": {},
     "output_type": "execute_result"
    }
   ],
   "source": [
    "a.endswith(\"machine\")"
   ]
  },
  {
   "cell_type": "markdown",
   "id": "1e448b56",
   "metadata": {},
   "source": [
    "### String manuplation using Split functions"
   ]
  },
  {
   "cell_type": "code",
   "execution_count": 63,
   "id": "9a110749",
   "metadata": {},
   "outputs": [],
   "source": [
    "sentence = \"Python is amazing for Ai.AI is the future\""
   ]
  },
  {
   "cell_type": "code",
   "execution_count": 64,
   "id": "ee08951f",
   "metadata": {},
   "outputs": [
    {
     "data": {
      "text/plain": [
       "['Python is amazing for Ai', 'AI is the future']"
      ]
     },
     "execution_count": 64,
     "metadata": {},
     "output_type": "execute_result"
    }
   ],
   "source": [
    "sentence.split(\".\") # splits the sentence by using the condition "
   ]
  },
  {
   "cell_type": "code",
   "execution_count": 65,
   "id": "a604d0ef",
   "metadata": {},
   "outputs": [
    {
     "data": {
      "text/plain": [
       "['Python', 'is', 'amazing', 'for', 'Ai.AI', 'is', 'the', 'future']"
      ]
     },
     "execution_count": 65,
     "metadata": {},
     "output_type": "execute_result"
    }
   ],
   "source": [
    "sentence.split(\" \")"
   ]
  },
  {
   "cell_type": "code",
   "execution_count": 66,
   "id": "cae6e9bc",
   "metadata": {},
   "outputs": [],
   "source": [
    "text = (\"AI\",\"is\",\"future\",\"technolody\")"
   ]
  },
  {
   "cell_type": "code",
   "execution_count": 67,
   "id": "93a93633",
   "metadata": {},
   "outputs": [
    {
     "name": "stdout",
     "output_type": "stream",
     "text": [
      "AI is future technolody\n"
     ]
    }
   ],
   "source": [
    "d = \" \".join(text) # used to join the text seperated by comma \n",
    "print(d)"
   ]
  },
  {
   "cell_type": "code",
   "execution_count": 68,
   "id": "17670c67",
   "metadata": {},
   "outputs": [
    {
     "name": "stdout",
     "output_type": "stream",
     "text": [
      "AI+is+future+technolody\n"
     ]
    }
   ],
   "source": [
    "h = \"+\".join(text) # joins wiht the + as cond and join the word in the sentence \n",
    "print(h)"
   ]
  },
  {
   "cell_type": "code",
   "execution_count": 69,
   "id": "6df63c23",
   "metadata": {},
   "outputs": [
    {
     "name": "stdout",
     "output_type": "stream",
     "text": [
      "AI\n",
      "\tis\n",
      "\tfuture\n",
      "\ttechnolody\n"
     ]
    }
   ],
   "source": [
    "j = \"\\n\\t\".join(text) #t= tab creates a space ; n = prints the word in the next line \n",
    "print(j)"
   ]
  },
  {
   "cell_type": "code",
   "execution_count": 70,
   "id": "5de3b9eb",
   "metadata": {},
   "outputs": [
    {
     "data": {
      "text/plain": [
       "'Hello Anil,welcome to course'"
      ]
     },
     "execution_count": 70,
     "metadata": {},
     "output_type": "execute_result"
    }
   ],
   "source": [
    "template = \"Hello name,welcome to course\"\n",
    "template.replace(\"name\",\"Anil\") # Replace the old word to new word "
   ]
  },
  {
   "cell_type": "code",
   "execution_count": 71,
   "id": "20cb57e0",
   "metadata": {},
   "outputs": [
    {
     "data": {
      "text/plain": [
       "'Hello name,welcome to Ai chatbot'"
      ]
     },
     "execution_count": 71,
     "metadata": {},
     "output_type": "execute_result"
    }
   ],
   "source": [
    "template.replace(\"course\",\"Ai chatbot\")"
   ]
  },
  {
   "cell_type": "markdown",
   "id": "7effc6bd",
   "metadata": {},
   "source": [
    "## list:\n",
    "1) list is represted by square brackets []\n",
    "2) list is Muttable\n",
    "3) list is ordered it follows indexing \n",
    "4) Lists can grow or shrink as needed. You don’t need to declare their size in advance.\n",
    "### we can use some common list methods :\n",
    "1) append(x) -> Adds items (x) to the end of the list\n",
    "2) extend(iter)-> Adds all the items from an iterable\n",
    "3) insert(i,x) -> insert item x at index i \n",
    "4) remove(x) -> Remove first occurrence of item\n",
    "5) pop(i) -> Removes and returns the items at index i\n",
    "6) sort() -> Sorts the list is ascending order\n",
    "7) reverse() -> Reverse the list in place\n",
    "8) clear() -> Removes all items from the list"
   ]
  },
  {
   "cell_type": "code",
   "execution_count": 72,
   "id": "e4e2b408",
   "metadata": {},
   "outputs": [],
   "source": [
    "# empty list \n",
    "empty_list1 = list()\n",
    "# OR\n",
    "empty_list2 = []"
   ]
  },
  {
   "cell_type": "code",
   "execution_count": 73,
   "id": "101a87b4",
   "metadata": {},
   "outputs": [
    {
     "data": {
      "text/plain": [
       "[]"
      ]
     },
     "execution_count": 73,
     "metadata": {},
     "output_type": "execute_result"
    }
   ],
   "source": [
    "empty_list1"
   ]
  },
  {
   "cell_type": "code",
   "execution_count": 74,
   "id": "f047d9ce",
   "metadata": {},
   "outputs": [],
   "source": [
    "fruits = [\"apple\",\"banana\",\"orange\"]\n",
    "numbers = [1,2,3,4,5]\n",
    "mixed = [\"hello\",42,4.6,True,[1,2,3]]\n"
   ]
  },
  {
   "cell_type": "code",
   "execution_count": 75,
   "id": "0f7841e4",
   "metadata": {},
   "outputs": [
    {
     "data": {
      "text/plain": [
       "['hello', 42, 4.6, True, [1, 2, 3]]"
      ]
     },
     "execution_count": 75,
     "metadata": {},
     "output_type": "execute_result"
    }
   ],
   "source": [
    "mixed"
   ]
  },
  {
   "cell_type": "code",
   "execution_count": 76,
   "id": "48b872d6",
   "metadata": {},
   "outputs": [
    {
     "data": {
      "text/plain": [
       "'hello'"
      ]
     },
     "execution_count": 76,
     "metadata": {},
     "output_type": "execute_result"
    }
   ],
   "source": [
    "mixed[0] #indexing usually starts form zero and in reverse it starts with -1"
   ]
  },
  {
   "cell_type": "code",
   "execution_count": 77,
   "id": "6c4112c0",
   "metadata": {},
   "outputs": [
    {
     "data": {
      "text/plain": [
       "2"
      ]
     },
     "execution_count": 77,
     "metadata": {},
     "output_type": "execute_result"
    }
   ],
   "source": [
    "mixed[4][1]"
   ]
  },
  {
   "cell_type": "code",
   "execution_count": 78,
   "id": "7069ddf7",
   "metadata": {},
   "outputs": [
    {
     "data": {
      "text/plain": [
       "3"
      ]
     },
     "execution_count": 78,
     "metadata": {},
     "output_type": "execute_result"
    }
   ],
   "source": [
    "mixed[-1][-1]"
   ]
  },
  {
   "cell_type": "code",
   "execution_count": 79,
   "id": "918a92cd",
   "metadata": {},
   "outputs": [],
   "source": [
    "mixed[4].append(\"abc\")"
   ]
  },
  {
   "cell_type": "code",
   "execution_count": 80,
   "id": "74fe1850",
   "metadata": {},
   "outputs": [
    {
     "data": {
      "text/plain": [
       "['hello', 42, 4.6, True, [1, 2, 3, 'abc']]"
      ]
     },
     "execution_count": 80,
     "metadata": {},
     "output_type": "execute_result"
    }
   ],
   "source": [
    "mixed"
   ]
  },
  {
   "cell_type": "code",
   "execution_count": 81,
   "id": "28d84728",
   "metadata": {},
   "outputs": [
    {
     "data": {
      "text/plain": [
       "True"
      ]
     },
     "execution_count": 81,
     "metadata": {},
     "output_type": "execute_result"
    }
   ],
   "source": [
    "mixed[3]\n"
   ]
  },
  {
   "cell_type": "code",
   "execution_count": 82,
   "id": "835be88b",
   "metadata": {},
   "outputs": [
    {
     "data": {
      "text/plain": [
       "[42, 4.6, True, [1, 2, 3, 'abc']]"
      ]
     },
     "execution_count": 82,
     "metadata": {},
     "output_type": "execute_result"
    }
   ],
   "source": [
    "mixed[1:5] # 1st position and n-1 position so it will print 1 index to 4 index \n",
    "# '''the syntax is [start : stop(n-1) : step size ]'''"
   ]
  },
  {
   "cell_type": "code",
   "execution_count": 83,
   "id": "aadf5e19",
   "metadata": {},
   "outputs": [],
   "source": [
    "n = [1,3,5,2,1,20,40,56]"
   ]
  },
  {
   "cell_type": "code",
   "execution_count": 84,
   "id": "4329e9e0",
   "metadata": {},
   "outputs": [
    {
     "data": {
      "text/plain": [
       "8"
      ]
     },
     "execution_count": 84,
     "metadata": {},
     "output_type": "execute_result"
    }
   ],
   "source": [
    "len(n)"
   ]
  },
  {
   "cell_type": "code",
   "execution_count": 85,
   "id": "d17a1f2e",
   "metadata": {},
   "outputs": [
    {
     "data": {
      "text/plain": [
       "[2, 20, 56]"
      ]
     },
     "execution_count": 85,
     "metadata": {},
     "output_type": "execute_result"
    }
   ],
   "source": [
    "n[3: : 2]"
   ]
  },
  {
   "cell_type": "code",
   "execution_count": 86,
   "id": "c154d771",
   "metadata": {},
   "outputs": [
    {
     "data": {
      "text/plain": [
       "[1, 5, 1, 40]"
      ]
     },
     "execution_count": 86,
     "metadata": {},
     "output_type": "execute_result"
    }
   ],
   "source": [
    "n[:7:2]"
   ]
  },
  {
   "cell_type": "code",
   "execution_count": 87,
   "id": "909b6d82",
   "metadata": {},
   "outputs": [],
   "source": [
    "fruits = [\"apple\",\"banana\",\"orange\"]\n"
   ]
  },
  {
   "cell_type": "code",
   "execution_count": 88,
   "id": "da05c882",
   "metadata": {},
   "outputs": [],
   "source": [
    "fruits.append(\"kivi\") # append adds the word at last "
   ]
  },
  {
   "cell_type": "code",
   "execution_count": 89,
   "id": "534ed458",
   "metadata": {},
   "outputs": [
    {
     "data": {
      "text/plain": [
       "['apple', 'banana', 'orange', 'kivi']"
      ]
     },
     "execution_count": 89,
     "metadata": {},
     "output_type": "execute_result"
    }
   ],
   "source": [
    "fruits"
   ]
  },
  {
   "cell_type": "code",
   "execution_count": 90,
   "id": "5abe79f7",
   "metadata": {},
   "outputs": [],
   "source": [
    "fruits[2] = \"grapes\" # REPLACES already existed word with given word "
   ]
  },
  {
   "cell_type": "code",
   "execution_count": 91,
   "id": "b17abbd4",
   "metadata": {},
   "outputs": [
    {
     "data": {
      "text/plain": [
       "['apple', 'banana', 'grapes', 'kivi']"
      ]
     },
     "execution_count": 91,
     "metadata": {},
     "output_type": "execute_result"
    }
   ],
   "source": [
    "fruits\n"
   ]
  },
  {
   "cell_type": "code",
   "execution_count": 92,
   "id": "74cad37d",
   "metadata": {},
   "outputs": [],
   "source": [
    "fruits.insert(2,\"watermelon\") # insert the word at the given index"
   ]
  },
  {
   "cell_type": "code",
   "execution_count": 93,
   "id": "3bb868c3",
   "metadata": {},
   "outputs": [
    {
     "data": {
      "text/plain": [
       "['apple', 'banana', 'watermelon', 'grapes', 'kivi']"
      ]
     },
     "execution_count": 93,
     "metadata": {},
     "output_type": "execute_result"
    }
   ],
   "source": [
    "fruits"
   ]
  },
  {
   "cell_type": "code",
   "execution_count": 94,
   "id": "6d0f6f6a",
   "metadata": {},
   "outputs": [],
   "source": [
    "fruits.extend([\"muskmelon\",\"papaya\"]) # Extend is used to add multiple elements at end "
   ]
  },
  {
   "cell_type": "code",
   "execution_count": 95,
   "id": "ab2b3c73",
   "metadata": {},
   "outputs": [
    {
     "data": {
      "text/plain": [
       "['apple', 'banana', 'watermelon', 'grapes', 'kivi', 'muskmelon', 'papaya']"
      ]
     },
     "execution_count": 95,
     "metadata": {},
     "output_type": "execute_result"
    }
   ],
   "source": [
    "fruits"
   ]
  },
  {
   "cell_type": "code",
   "execution_count": 96,
   "id": "de522da8",
   "metadata": {},
   "outputs": [],
   "source": [
    "fruits.insert(4,[\"avacado\",\"pineapple\"])"
   ]
  },
  {
   "cell_type": "code",
   "execution_count": 97,
   "id": "58344794",
   "metadata": {},
   "outputs": [
    {
     "data": {
      "text/plain": [
       "['apple',\n",
       " 'banana',\n",
       " 'watermelon',\n",
       " 'grapes',\n",
       " ['avacado', 'pineapple'],\n",
       " 'kivi',\n",
       " 'muskmelon',\n",
       " 'papaya']"
      ]
     },
     "execution_count": 97,
     "metadata": {},
     "output_type": "execute_result"
    }
   ],
   "source": [
    "fruits"
   ]
  },
  {
   "cell_type": "code",
   "execution_count": 98,
   "id": "0645ebf4",
   "metadata": {},
   "outputs": [
    {
     "data": {
      "text/plain": [
       "list"
      ]
     },
     "execution_count": 98,
     "metadata": {},
     "output_type": "execute_result"
    }
   ],
   "source": [
    "type(fruits)"
   ]
  },
  {
   "cell_type": "code",
   "execution_count": 99,
   "id": "7caf5d90",
   "metadata": {},
   "outputs": [
    {
     "name": "stdout",
     "output_type": "stream",
     "text": [
      "[1, 2, 3, 4, 5, 6]\n"
     ]
    }
   ],
   "source": [
    "a= [1,2,3]\n",
    "b = [4,5,6]\n",
    "c= a+b\n",
    "print(c)"
   ]
  },
  {
   "cell_type": "code",
   "execution_count": 100,
   "id": "08f6da73",
   "metadata": {},
   "outputs": [],
   "source": [
    "fruits.remove(\"kivi\")"
   ]
  },
  {
   "cell_type": "code",
   "execution_count": 101,
   "id": "66017c53",
   "metadata": {},
   "outputs": [
    {
     "data": {
      "text/plain": [
       "['apple',\n",
       " 'banana',\n",
       " 'watermelon',\n",
       " 'grapes',\n",
       " ['avacado', 'pineapple'],\n",
       " 'muskmelon',\n",
       " 'papaya']"
      ]
     },
     "execution_count": 101,
     "metadata": {},
     "output_type": "execute_result"
    }
   ],
   "source": [
    "fruits"
   ]
  },
  {
   "cell_type": "code",
   "execution_count": 102,
   "id": "69ee534a",
   "metadata": {},
   "outputs": [],
   "source": [
    "j = fruits.pop(0) # for pop we can use index and save it in another variable "
   ]
  },
  {
   "cell_type": "code",
   "execution_count": 103,
   "id": "8e209fbf",
   "metadata": {},
   "outputs": [
    {
     "data": {
      "text/plain": [
       "'apple'"
      ]
     },
     "execution_count": 103,
     "metadata": {},
     "output_type": "execute_result"
    }
   ],
   "source": [
    "j"
   ]
  },
  {
   "cell_type": "code",
   "execution_count": 104,
   "id": "33e32941",
   "metadata": {},
   "outputs": [
    {
     "data": {
      "text/plain": [
       "['banana',\n",
       " 'watermelon',\n",
       " 'grapes',\n",
       " ['avacado', 'pineapple'],\n",
       " 'muskmelon',\n",
       " 'papaya']"
      ]
     },
     "execution_count": 104,
     "metadata": {},
     "output_type": "execute_result"
    }
   ],
   "source": [
    "fruits"
   ]
  },
  {
   "cell_type": "code",
   "execution_count": 105,
   "id": "7919af74",
   "metadata": {},
   "outputs": [
    {
     "data": {
      "text/plain": [
       "['banana',\n",
       " 'watermelon',\n",
       " 'grapes',\n",
       " ['avacado', 'pineapple'],\n",
       " 'muskmelon',\n",
       " 'papaya']"
      ]
     },
     "execution_count": 105,
     "metadata": {},
     "output_type": "execute_result"
    }
   ],
   "source": [
    "fruits"
   ]
  },
  {
   "cell_type": "code",
   "execution_count": 106,
   "id": "26dc5a6a",
   "metadata": {},
   "outputs": [
    {
     "data": {
      "text/plain": [
       "['banana', 'watermelon', 'grapes', 'muskmelon', 'papaya']"
      ]
     },
     "execution_count": 106,
     "metadata": {},
     "output_type": "execute_result"
    }
   ],
   "source": [
    "# if we wnat to delete any fruit \n",
    "del fruits[3]\n",
    "fruits"
   ]
  },
  {
   "cell_type": "code",
   "execution_count": 107,
   "id": "766420f6",
   "metadata": {},
   "outputs": [],
   "source": [
    "v = [1,2,2,24,13,1,5,3,6,6,57]\n"
   ]
  },
  {
   "cell_type": "code",
   "execution_count": 108,
   "id": "28cb6e8f",
   "metadata": {},
   "outputs": [
    {
     "data": {
      "text/plain": [
       "11"
      ]
     },
     "execution_count": 108,
     "metadata": {},
     "output_type": "execute_result"
    }
   ],
   "source": [
    "len(v) # length of the variable"
   ]
  },
  {
   "cell_type": "code",
   "execution_count": 109,
   "id": "ed6a32b2",
   "metadata": {},
   "outputs": [
    {
     "data": {
      "text/plain": [
       "2"
      ]
     },
     "execution_count": 109,
     "metadata": {},
     "output_type": "execute_result"
    }
   ],
   "source": [
    "v.count(6) #gives the count of similar items present "
   ]
  },
  {
   "cell_type": "code",
   "execution_count": 110,
   "id": "e012265e",
   "metadata": {},
   "outputs": [
    {
     "name": "stdout",
     "output_type": "stream",
     "text": [
      "None\n"
     ]
    }
   ],
   "source": [
    "print(v.sort()) #sorts the elements in the variable asending order "
   ]
  },
  {
   "cell_type": "code",
   "execution_count": 111,
   "id": "a3136e34",
   "metadata": {},
   "outputs": [
    {
     "data": {
      "text/plain": [
       "[1, 1, 2, 2, 3, 5, 6, 6, 13, 24, 57]"
      ]
     },
     "execution_count": 111,
     "metadata": {},
     "output_type": "execute_result"
    }
   ],
   "source": [
    "v"
   ]
  },
  {
   "cell_type": "code",
   "execution_count": 112,
   "id": "f14d98ff",
   "metadata": {},
   "outputs": [],
   "source": [
    "v.reverse() #reverse the variable in the variable"
   ]
  },
  {
   "cell_type": "code",
   "execution_count": 113,
   "id": "37edfd20",
   "metadata": {},
   "outputs": [
    {
     "data": {
      "text/plain": [
       "[57, 24, 13, 6, 6, 5, 3, 2, 2, 1, 1]"
      ]
     },
     "execution_count": 113,
     "metadata": {},
     "output_type": "execute_result"
    }
   ],
   "source": [
    "v"
   ]
  },
  {
   "cell_type": "code",
   "execution_count": 114,
   "id": "52468038",
   "metadata": {},
   "outputs": [
    {
     "data": {
      "text/plain": [
       "False"
      ]
     },
     "execution_count": 114,
     "metadata": {},
     "output_type": "execute_result"
    }
   ],
   "source": [
    "45 in v"
   ]
  },
  {
   "cell_type": "code",
   "execution_count": 115,
   "id": "d84e4254",
   "metadata": {},
   "outputs": [
    {
     "data": {
      "text/plain": [
       "True"
      ]
     },
     "execution_count": 115,
     "metadata": {},
     "output_type": "execute_result"
    }
   ],
   "source": [
    "2 in v"
   ]
  },
  {
   "cell_type": "markdown",
   "id": "c0cc0faf",
   "metadata": {},
   "source": [
    "## Tuples ():\n",
    "Properties :\n",
    "1. Tuple is immmutable \n",
    "2. use less memory than list\n",
    "3. Faster than list\n",
    "4. we use tuple when we dont to alter the data and we use list when we need to alter the data"
   ]
  },
  {
   "cell_type": "code",
   "execution_count": 116,
   "id": "e63ced15",
   "metadata": {},
   "outputs": [],
   "source": [
    "# how to create a empty typle \n",
    "a = ()\n",
    "b = tuple()"
   ]
  },
  {
   "cell_type": "code",
   "execution_count": 117,
   "id": "db25a8ae",
   "metadata": {},
   "outputs": [],
   "source": [
    "c =(2,3,5,4)"
   ]
  },
  {
   "cell_type": "code",
   "execution_count": 118,
   "id": "77063003",
   "metadata": {},
   "outputs": [
    {
     "data": {
      "text/plain": [
       "2"
      ]
     },
     "execution_count": 118,
     "metadata": {},
     "output_type": "execute_result"
    }
   ],
   "source": [
    "c[0]"
   ]
  },
  {
   "cell_type": "code",
   "execution_count": 120,
   "id": "1f75acba",
   "metadata": {},
   "outputs": [
    {
     "ename": "TypeError",
     "evalue": "'tuple' object does not support item assignment",
     "output_type": "error",
     "traceback": [
      "\u001b[31m---------------------------------------------------------------------------\u001b[39m",
      "\u001b[31mTypeError\u001b[39m                                 Traceback (most recent call last)",
      "\u001b[36mCell\u001b[39m\u001b[36m \u001b[39m\u001b[32mIn[120]\u001b[39m\u001b[32m, line 1\u001b[39m\n\u001b[32m----> \u001b[39m\u001b[32m1\u001b[39m c[\u001b[32m0\u001b[39m] = \u001b[32m4\u001b[39m\n",
      "\u001b[31mTypeError\u001b[39m: 'tuple' object does not support item assignment"
     ]
    }
   ],
   "source": [
    "c[0] = 4 # we caannot alter the element "
   ]
  },
  {
   "cell_type": "code",
   "execution_count": null,
   "id": "7f8adbdf",
   "metadata": {},
   "outputs": [],
   "source": [
    "cc = (3,4.5,\"apple\",True,[1,2,3,6])"
   ]
  },
  {
   "cell_type": "code",
   "execution_count": null,
   "id": "3a45c967",
   "metadata": {},
   "outputs": [
    {
     "data": {
      "text/plain": [
       "(3, 4.5, 'apple', True, [1, 2, 3, 6])"
      ]
     },
     "execution_count": 6,
     "metadata": {},
     "output_type": "execute_result"
    }
   ],
   "source": [
    "cc"
   ]
  },
  {
   "cell_type": "code",
   "execution_count": 121,
   "id": "53f7c5b6",
   "metadata": {},
   "outputs": [
    {
     "data": {
      "text/plain": [
       "3"
      ]
     },
     "execution_count": 121,
     "metadata": {},
     "output_type": "execute_result"
    }
   ],
   "source": [
    "cc[4][2]"
   ]
  },
  {
   "cell_type": "code",
   "execution_count": 122,
   "id": "a10346a5",
   "metadata": {},
   "outputs": [],
   "source": [
    "cc[4].append(6)"
   ]
  },
  {
   "cell_type": "code",
   "execution_count": 123,
   "id": "4f5d0a82",
   "metadata": {},
   "outputs": [
    {
     "data": {
      "text/plain": [
       "(3, 4.5, 'apple', True, [1, 2, 3, 6])"
      ]
     },
     "execution_count": 123,
     "metadata": {},
     "output_type": "execute_result"
    }
   ],
   "source": [
    "cc"
   ]
  },
  {
   "cell_type": "code",
   "execution_count": 124,
   "id": "6a70ca77",
   "metadata": {},
   "outputs": [],
   "source": [
    "cc[4].remove(6)"
   ]
  },
  {
   "cell_type": "code",
   "execution_count": 125,
   "id": "d2a67ed1",
   "metadata": {},
   "outputs": [
    {
     "data": {
      "text/plain": [
       "(3, 4.5, 'apple', True, [1, 2, 3])"
      ]
     },
     "execution_count": 125,
     "metadata": {},
     "output_type": "execute_result"
    }
   ],
   "source": [
    "cc"
   ]
  },
  {
   "cell_type": "code",
   "execution_count": 127,
   "id": "4791c22b",
   "metadata": {},
   "outputs": [],
   "source": [
    "n1 = (1,2,3)\n",
    "n2 = [4,5,6]\n",
    "x,y,z = n1\n",
    "x1,y1,z1 = n2"
   ]
  },
  {
   "cell_type": "code",
   "execution_count": null,
   "id": "129529bc",
   "metadata": {},
   "outputs": [
    {
     "name": "stdout",
     "output_type": "stream",
     "text": [
      "1 2 3\n",
      "4 5 6\n"
     ]
    }
   ],
   "source": [
    "print (x,y,z)\n",
    "print(x1,y1,z1)"
   ]
  },
  {
   "cell_type": "code",
   "execution_count": null,
   "id": "fecc2c92",
   "metadata": {},
   "outputs": [],
   "source": [
    "number = (1,3,5,7,8,)\n",
    "first , *middle , last = number  # here star repesents all values expect the first and last\n",
    "\n"
   ]
  },
  {
   "cell_type": "code",
   "execution_count": null,
   "id": "026edc0e",
   "metadata": {},
   "outputs": [
    {
     "name": "stdout",
     "output_type": "stream",
     "text": [
      "1\n",
      "8\n",
      "[3, 5, 7]\n"
     ]
    }
   ],
   "source": [
    "print(first)\n",
    "print(last)\n",
    "print(middle) # if we dosnt give star it will show error "
   ]
  },
  {
   "cell_type": "markdown",
   "id": "bdc4fb9c",
   "metadata": {},
   "source": [
    "## Dictionary {}: {key:value}\n",
    "1. Its a key , value pair\n",
    "2. Key should be string only and value can be any thing tuple list or any datatype or even dictionary\n",
    "3. key does not support duplicate but value can be duplicate\n",
    "4. It is unordered (no indexing) through key only we can access \n",
    "5. It can be extended and dynamic in size\n",
    "\n",
    "Eg: a = {\"a\" : \"amit\" , \"age\" : 34}\n",
    " So here key should ber always a integer and value can be any datatype"
   ]
  },
  {
   "cell_type": "markdown",
   "id": "b6de471f",
   "metadata": {},
   "source": [
    "# To create empty dictionary \n",
    "d = {}\n",
    "d = dict()"
   ]
  },
  {
   "cell_type": "code",
   "execution_count": null,
   "id": "e979b7c8",
   "metadata": {},
   "outputs": [],
   "source": [
    "student = {\"name\":\"Alice\", \"age\" : 24,\"grade\": \"A\" }\n",
    "prices = {\"apple\": 1.50 , \"banana\": 0.75 , \"orange\": 0.60}"
   ]
  },
  {
   "cell_type": "code",
   "execution_count": null,
   "id": "dbfc6d94",
   "metadata": {},
   "outputs": [
    {
     "data": {
      "text/plain": [
       "dict_keys(['name', 'age', 'grade'])"
      ]
     },
     "execution_count": 23,
     "metadata": {},
     "output_type": "execute_result"
    }
   ],
   "source": [
    "student.keys()"
   ]
  },
  {
   "cell_type": "code",
   "execution_count": null,
   "id": "e1759e33",
   "metadata": {},
   "outputs": [
    {
     "data": {
      "text/plain": [
       "dict_values(['Alice', 24, 'A'])"
      ]
     },
     "execution_count": 24,
     "metadata": {},
     "output_type": "execute_result"
    }
   ],
   "source": [
    "student.values()"
   ]
  },
  {
   "cell_type": "code",
   "execution_count": null,
   "id": "c47fbe1b",
   "metadata": {},
   "outputs": [
    {
     "data": {
      "text/plain": [
       "24"
      ]
     },
     "execution_count": 25,
     "metadata": {},
     "output_type": "execute_result"
    }
   ],
   "source": [
    "student[\"age\"]"
   ]
  },
  {
   "cell_type": "code",
   "execution_count": null,
   "id": "bd4c50cf",
   "metadata": {},
   "outputs": [
    {
     "data": {
      "text/plain": [
       "'A'"
      ]
     },
     "execution_count": 26,
     "metadata": {},
     "output_type": "execute_result"
    }
   ],
   "source": [
    "student[\"grade\"]"
   ]
  },
  {
   "cell_type": "code",
   "execution_count": 128,
   "id": "2541aeb0",
   "metadata": {},
   "outputs": [],
   "source": [
    "person = dict(name = \"bob\" , age = 45 , city = \"vizag\") # using dict() constuctor "
   ]
  },
  {
   "cell_type": "code",
   "execution_count": 129,
   "id": "139e9697",
   "metadata": {},
   "outputs": [
    {
     "name": "stdout",
     "output_type": "stream",
     "text": [
      "bob dict_keys(['name', 'age', 'city']) dict_values(['bob', 45, 'vizag'])\n"
     ]
    }
   ],
   "source": [
    "print(person[\"name\"], \n",
    "      person.keys() ,\n",
    "      person.values())"
   ]
  },
  {
   "cell_type": "code",
   "execution_count": 130,
   "id": "af007c8b",
   "metadata": {},
   "outputs": [],
   "source": [
    "items = [(\"a\",1) , (\"c\",2) , (\"b\",5)]\n",
    "my_items = dict(items)"
   ]
  },
  {
   "cell_type": "code",
   "execution_count": 131,
   "id": "a4e058f9",
   "metadata": {},
   "outputs": [
    {
     "data": {
      "text/plain": [
       "{'a': 1, 'c': 2, 'b': 5}"
      ]
     },
     "execution_count": 131,
     "metadata": {},
     "output_type": "execute_result"
    }
   ],
   "source": [
    "my_items"
   ]
  },
  {
   "cell_type": "code",
   "execution_count": null,
   "id": "d3f65767",
   "metadata": {},
   "outputs": [
    {
     "name": "stdout",
     "output_type": "stream",
     "text": [
      "{'name': 'Raghava_Anil', 'age': 23, 'grade': 'A'}\n"
     ]
    }
   ],
   "source": [
    "# from list of tuples\n",
    "item1 = [(\"name\",\"Raghava_Anil\") , (\"age\" , 23) , (\"grade\" , \"A\")]\n",
    "my_item1 = dict(item1)\n",
    "print(my_item1)"
   ]
  },
  {
   "cell_type": "code",
   "execution_count": null,
   "id": "45462a0e",
   "metadata": {},
   "outputs": [
    {
     "data": {
      "text/plain": [
       "'A'"
      ]
     },
     "execution_count": 137,
     "metadata": {},
     "output_type": "execute_result"
    }
   ],
   "source": [
    "#student.get(\"grade\") # get command handle missing key safly it dose not throw errorr even though the key is not present\n",
    "#example : student.get(\"height\")\n",
    "#student[\"grade\"]"
   ]
  },
  {
   "cell_type": "code",
   "execution_count": null,
   "id": "3426e37c",
   "metadata": {},
   "outputs": [
    {
     "name": "stdout",
     "output_type": "stream",
     "text": [
      "None\n"
     ]
    }
   ],
   "source": [
    "h = student.get(\"height\") #so it dosnt throw error where as when we call through the key name it throws error \n",
    "print(h)"
   ]
  },
  {
   "cell_type": "code",
   "execution_count": 141,
   "id": "704c76fb",
   "metadata": {},
   "outputs": [],
   "source": [
    "#student[\"height\"] # throws error as \"keyerror\""
   ]
  },
  {
   "cell_type": "code",
   "execution_count": 144,
   "id": "7b2f9d77",
   "metadata": {},
   "outputs": [],
   "source": [
    "# To add any thing to the dictionary\n",
    "student[\"city\"] = \"Hyderabad\"\n",
    "student[\"school\"] = \"narayana junior school\""
   ]
  },
  {
   "cell_type": "code",
   "execution_count": 145,
   "id": "3f4e0043",
   "metadata": {},
   "outputs": [
    {
     "data": {
      "text/plain": [
       "{'name': 'Alice',\n",
       " 'age': 24,\n",
       " 'grade': 'A',\n",
       " 'city': 'Hyderabad',\n",
       " 'school': 'narayana junior school'}"
      ]
     },
     "execution_count": 145,
     "metadata": {},
     "output_type": "execute_result"
    }
   ],
   "source": [
    "student"
   ]
  },
  {
   "cell_type": "code",
   "execution_count": null,
   "id": "df63e4c5",
   "metadata": {},
   "outputs": [],
   "source": [
    "# if we want to add more key values we use update()\n",
    "student.update({\"height\" : 5.6 , \"weight\" : 60})"
   ]
  },
  {
   "cell_type": "code",
   "execution_count": 150,
   "id": "33ee02bf",
   "metadata": {},
   "outputs": [
    {
     "data": {
      "text/plain": [
       "{'name': 'Alice',\n",
       " 'age': 24,\n",
       " 'grade': 'A',\n",
       " 'city': 'Hyderabad',\n",
       " 'school': 'narayana junior school',\n",
       " 'height': 5.6,\n",
       " 'weight': 60}"
      ]
     },
     "execution_count": 150,
     "metadata": {},
     "output_type": "execute_result"
    }
   ],
   "source": [
    "student"
   ]
  },
  {
   "cell_type": "code",
   "execution_count": 151,
   "id": "e8a5c801",
   "metadata": {},
   "outputs": [],
   "source": [
    "# OR\n",
    "student.update(gpa = 6.7 , Bus_service = True)"
   ]
  },
  {
   "cell_type": "code",
   "execution_count": 152,
   "id": "7c47240f",
   "metadata": {},
   "outputs": [
    {
     "data": {
      "text/plain": [
       "{'name': 'Alice',\n",
       " 'age': 24,\n",
       " 'grade': 'A',\n",
       " 'city': 'Hyderabad',\n",
       " 'school': 'narayana junior school',\n",
       " 'height': 5.6,\n",
       " 'weight': 60,\n",
       " 'gpa': 6.7,\n",
       " 'Bus_service': True}"
      ]
     },
     "execution_count": 152,
     "metadata": {},
     "output_type": "execute_result"
    }
   ],
   "source": [
    "student"
   ]
  },
  {
   "cell_type": "code",
   "execution_count": 153,
   "id": "2b45f387",
   "metadata": {},
   "outputs": [],
   "source": [
    "student.update(marks = {\"science\" : 69 , \"maths\" : 89 , \"biology\" : 78} , subject_code = [1,2,3,4] , coordinte = (2,3.45))"
   ]
  },
  {
   "cell_type": "code",
   "execution_count": 154,
   "id": "f1448abc",
   "metadata": {},
   "outputs": [
    {
     "data": {
      "text/plain": [
       "{'name': 'Alice',\n",
       " 'age': 24,\n",
       " 'grade': 'A',\n",
       " 'city': 'Hyderabad',\n",
       " 'school': 'narayana junior school',\n",
       " 'height': 5.6,\n",
       " 'weight': 60,\n",
       " 'gpa': 6.7,\n",
       " 'Bus_service': True,\n",
       " 'marks': {'science': 69, 'maths': 89, 'biology': 78},\n",
       " 'subject_code': [1, 2, 3, 4],\n",
       " 'coordinte': (2, 3.45)}"
      ]
     },
     "execution_count": 154,
     "metadata": {},
     "output_type": "execute_result"
    }
   ],
   "source": [
    "student"
   ]
  },
  {
   "cell_type": "code",
   "execution_count": 159,
   "id": "72c4e67a",
   "metadata": {},
   "outputs": [
    {
     "data": {
      "text/plain": [
       "89"
      ]
     },
     "execution_count": 159,
     "metadata": {},
     "output_type": "execute_result"
    }
   ],
   "source": [
    "student[\"marks\"][\"maths\"]"
   ]
  },
  {
   "cell_type": "code",
   "execution_count": 160,
   "id": "05b32678",
   "metadata": {},
   "outputs": [
    {
     "data": {
      "text/plain": [
       "dict_values(['Alice', 24, 'A', 'Hyderabad', 'narayana junior school', 5.6, 60, 6.7, True, {'science': 69, 'maths': 89, 'biology': 78}, [1, 2, 3, 4], (2, 3.45)])"
      ]
     },
     "execution_count": 160,
     "metadata": {},
     "output_type": "execute_result"
    }
   ],
   "source": [
    "student.values()"
   ]
  },
  {
   "cell_type": "code",
   "execution_count": 164,
   "id": "2bf7d7cd",
   "metadata": {},
   "outputs": [
    {
     "data": {
      "text/plain": [
       "89"
      ]
     },
     "execution_count": 164,
     "metadata": {},
     "output_type": "execute_result"
    }
   ],
   "source": [
    "student.get(\"marks\").get(\"maths\")"
   ]
  },
  {
   "cell_type": "code",
   "execution_count": 167,
   "id": "e208eac6",
   "metadata": {},
   "outputs": [
    {
     "name": "stdout",
     "output_type": "stream",
     "text": [
      "3\n",
      "2\n"
     ]
    }
   ],
   "source": [
    "print(student[\"subject_code\"][2])\n",
    "print(student[\"coordinte\"][0])"
   ]
  },
  {
   "cell_type": "code",
   "execution_count": 168,
   "id": "6766f611",
   "metadata": {},
   "outputs": [],
   "source": [
    "student.update(un = (1,4,[12,{\"agg\" : 56}]))"
   ]
  },
  {
   "cell_type": "code",
   "execution_count": 169,
   "id": "e85611fe",
   "metadata": {},
   "outputs": [
    {
     "data": {
      "text/plain": [
       "{'name': 'Alice',\n",
       " 'age': 24,\n",
       " 'grade': 'A',\n",
       " 'city': 'Hyderabad',\n",
       " 'school': 'narayana junior school',\n",
       " 'height': 5.6,\n",
       " 'weight': 60,\n",
       " 'gpa': 6.7,\n",
       " 'Bus_service': True,\n",
       " 'marks': {'science': 69, 'maths': 89, 'biology': 78},\n",
       " 'subject_code': [1, 2, 3, 4],\n",
       " 'coordinte': (2, 3.45),\n",
       " 'un': (1, 4, [12, {'agg': 56}])}"
      ]
     },
     "execution_count": 169,
     "metadata": {},
     "output_type": "execute_result"
    }
   ],
   "source": [
    "student"
   ]
  },
  {
   "cell_type": "code",
   "execution_count": 172,
   "id": "26a98f04",
   "metadata": {},
   "outputs": [
    {
     "data": {
      "text/plain": [
       "56"
      ]
     },
     "execution_count": 172,
     "metadata": {},
     "output_type": "execute_result"
    }
   ],
   "source": [
    "student[\"un\"][2][1][\"agg\"]"
   ]
  },
  {
   "cell_type": "code",
   "execution_count": 173,
   "id": "c944f004",
   "metadata": {},
   "outputs": [],
   "source": [
    "grade = student.pop(\"grade\")"
   ]
  },
  {
   "cell_type": "code",
   "execution_count": 174,
   "id": "51b58010",
   "metadata": {},
   "outputs": [
    {
     "data": {
      "text/plain": [
       "{'name': 'Alice',\n",
       " 'age': 24,\n",
       " 'city': 'Hyderabad',\n",
       " 'school': 'narayana junior school',\n",
       " 'height': 5.6,\n",
       " 'weight': 60,\n",
       " 'gpa': 6.7,\n",
       " 'Bus_service': True,\n",
       " 'marks': {'science': 69, 'maths': 89, 'biology': 78},\n",
       " 'subject_code': [1, 2, 3, 4],\n",
       " 'coordinte': (2, 3.45),\n",
       " 'un': (1, 4, [12, {'agg': 56}])}"
      ]
     },
     "execution_count": 174,
     "metadata": {},
     "output_type": "execute_result"
    }
   ],
   "source": [
    "student"
   ]
  },
  {
   "cell_type": "code",
   "execution_count": 175,
   "id": "5cfa7da8",
   "metadata": {},
   "outputs": [
    {
     "data": {
      "text/plain": [
       "'A'"
      ]
     },
     "execution_count": 175,
     "metadata": {},
     "output_type": "execute_result"
    }
   ],
   "source": [
    "grade"
   ]
  },
  {
   "cell_type": "code",
   "execution_count": 176,
   "id": "e09419e6",
   "metadata": {},
   "outputs": [],
   "source": [
    "del student[\"gpa\"]"
   ]
  },
  {
   "cell_type": "code",
   "execution_count": 177,
   "id": "6d883c40",
   "metadata": {},
   "outputs": [
    {
     "data": {
      "text/plain": [
       "{'name': 'Alice',\n",
       " 'age': 24,\n",
       " 'city': 'Hyderabad',\n",
       " 'school': 'narayana junior school',\n",
       " 'height': 5.6,\n",
       " 'weight': 60,\n",
       " 'Bus_service': True,\n",
       " 'marks': {'science': 69, 'maths': 89, 'biology': 78},\n",
       " 'subject_code': [1, 2, 3, 4],\n",
       " 'coordinte': (2, 3.45),\n",
       " 'un': (1, 4, [12, {'agg': 56}])}"
      ]
     },
     "execution_count": 177,
     "metadata": {},
     "output_type": "execute_result"
    }
   ],
   "source": [
    "student"
   ]
  },
  {
   "cell_type": "markdown",
   "id": "70a44788",
   "metadata": {},
   "source": [
    "## sets {} :\n",
    "1. no Duplicates\n",
    "2. no order\n",
    "3. Mutable\n",
    "4. all values stored in the set are unique value\n",
    "-> To create sn empty set \n",
    "s = set()\n",
    "## When to use set :\n",
    "a. Remove duplicates from the list\n",
    "b. Check Membership quickly\n",
    "c. Perform mathematical set operations\n",
    "d. Find common elements in collections"
   ]
  },
  {
   "cell_type": "code",
   "execution_count": 3,
   "id": "80a4a192",
   "metadata": {},
   "outputs": [
    {
     "data": {
      "text/plain": [
       "{1, 2, 3, 4, 5, 6, 7, 8, 10}"
      ]
     },
     "execution_count": 3,
     "metadata": {},
     "output_type": "execute_result"
    }
   ],
   "source": [
    "n = {1,2,4,3,4,6,4,7,5,8,10}\n",
    "n"
   ]
  },
  {
   "cell_type": "code",
   "execution_count": 4,
   "id": "ecc926c0",
   "metadata": {},
   "outputs": [
    {
     "data": {
      "text/plain": [
       "{1, 2, 3, 4, 5, 6, 7, 8, 10}"
      ]
     },
     "execution_count": 4,
     "metadata": {},
     "output_type": "execute_result"
    }
   ],
   "source": [
    "s = set(n)\n",
    "s"
   ]
  },
  {
   "cell_type": "code",
   "execution_count": null,
   "id": "22eddcdf",
   "metadata": {},
   "outputs": [],
   "source": []
  }
 ],
 "metadata": {
  "kernelspec": {
   "display_name": "base",
   "language": "python",
   "name": "python3"
  },
  "language_info": {
   "codemirror_mode": {
    "name": "ipython",
    "version": 3
   },
   "file_extension": ".py",
   "mimetype": "text/x-python",
   "name": "python",
   "nbconvert_exporter": "python",
   "pygments_lexer": "ipython3",
   "version": "3.13.5"
  }
 },
 "nbformat": 4,
 "nbformat_minor": 5
}
