{
 "cells": [
  {
   "cell_type": "code",
   "execution_count": null,
   "id": "04728558",
   "metadata": {},
   "outputs": [],
   "source": [
    "## class it is a ike a blueprint or template for creating object"
   ]
  }
 ],
 "metadata": {
  "language_info": {
   "name": "python"
  }
 },
 "nbformat": 4,
 "nbformat_minor": 5
}
